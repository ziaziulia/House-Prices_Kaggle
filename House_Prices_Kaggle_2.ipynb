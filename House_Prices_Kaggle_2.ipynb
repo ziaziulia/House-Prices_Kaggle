{
  "nbformat": 4,
  "nbformat_minor": 0,
  "metadata": {
    "colab": {
      "name": "House Prices_Kaggle_2.ipynb",
      "provenance": []
    },
    "kernelspec": {
      "name": "python3",
      "display_name": "Python 3"
    }
  },
  "cells": [
    {
      "cell_type": "code",
      "metadata": {
        "id": "7aIc8DUoJ9e5",
        "colab_type": "code",
        "colab": {
          "base_uri": "https://localhost:8080/",
          "height": 34
        },
        "outputId": "d4d48ca0-ad72-43b4-990e-41de3480f32f"
      },
      "source": [
        "import pandas as pd\n",
        "import numpy as np\n",
        "from IPython.display import display\n",
        "import matplotlib.pyplot as plt\n",
        "import seaborn as sns\n",
        "%matplotlib inline\n",
        "sns.set(style='white', context='notebook', palette='deep')\n",
        "print('Data Manipulation, Mathematical Computation and Visualisation packages imported!')"
      ],
      "execution_count": 1,
      "outputs": [
        {
          "output_type": "stream",
          "text": [
            "Data Manipulation, Mathematical Computation and Visualisation packages imported!\n"
          ],
          "name": "stdout"
        }
      ]
    },
    {
      "cell_type": "code",
      "metadata": {
        "id": "IG20KEGaT_Pl",
        "colab_type": "code",
        "colab": {
          "base_uri": "https://localhost:8080/",
          "height": 34
        },
        "outputId": "a1bf20a4-687f-4ff0-fab4-10ba9536c978"
      },
      "source": [
        "from sklearn.pipeline import make_pipeline\n",
        "from sklearn.preprocessing import RobustScaler\n",
        "from sklearn.preprocessing import StandardScaler\n",
        "from sklearn.preprocessing import LabelEncoder\n",
        "from sklearn.feature_selection import SelectFromModel\n",
        "from sklearn.feature_selection import SelectKBest\n",
        "from sklearn.feature_selection import chi2\n",
        "print('Pipeline and preprocessing packages imported!')"
      ],
      "execution_count": 2,
      "outputs": [
        {
          "output_type": "stream",
          "text": [
            "Pipeline and preprocessing packages imported!\n"
          ],
          "name": "stdout"
        }
      ]
    },
    {
      "cell_type": "code",
      "metadata": {
        "id": "_A39kiGYT_X5",
        "colab_type": "code",
        "colab": {
          "base_uri": "https://localhost:8080/",
          "height": 34
        },
        "outputId": "df7f0b29-5de9-48e8-8878-88ec08723bef"
      },
      "source": [
        "from sklearn.linear_model import ElasticNet, Lasso,  BayesianRidge, LassoLarsIC\n",
        "from sklearn.ensemble import RandomForestRegressor,  GradientBoostingRegressor, ExtraTreesRegressor\n",
        "from sklearn.kernel_ridge import KernelRidge\n",
        "import xgboost as xgb\n",
        "print('Algorithm packages imported!')"
      ],
      "execution_count": 3,
      "outputs": [
        {
          "output_type": "stream",
          "text": [
            "Algorithm packages imported!\n"
          ],
          "name": "stdout"
        }
      ]
    },
    {
      "cell_type": "code",
      "metadata": {
        "id": "1SyWx51rUFZt",
        "colab_type": "code",
        "colab": {
          "base_uri": "https://localhost:8080/",
          "height": 34
        },
        "outputId": "8afc3fcb-27c1-411a-f1a2-5d5ed98a7902"
      },
      "source": [
        "from sklearn import model_selection\n",
        "from sklearn.model_selection import KFold\n",
        "from sklearn.model_selection import cross_val_score, train_test_split\n",
        "from sklearn.model_selection import GridSearchCV\n",
        "from sklearn.model_selection import ShuffleSplit\n",
        "print('Model selection packages imported!')"
      ],
      "execution_count": 4,
      "outputs": [
        {
          "output_type": "stream",
          "text": [
            "Model selection packages imported!\n"
          ],
          "name": "stdout"
        }
      ]
    },
    {
      "cell_type": "code",
      "metadata": {
        "id": "grTjb5rNUFg-",
        "colab_type": "code",
        "colab": {
          "base_uri": "https://localhost:8080/",
          "height": 34
        },
        "outputId": "baddf1a2-2ca1-4b66-e653-dc17bbf4666b"
      },
      "source": [
        "from scipy import stats\n",
        "from scipy.stats import skew, norm\n",
        "from scipy.special import boxcox1p\n",
        "from scipy.stats.stats import pearsonr\n",
        "print('Statistical packages imported!')"
      ],
      "execution_count": 5,
      "outputs": [
        {
          "output_type": "stream",
          "text": [
            "Statistical packages imported!\n"
          ],
          "name": "stdout"
        }
      ]
    },
    {
      "cell_type": "code",
      "metadata": {
        "id": "uANy9-UoUgue",
        "colab_type": "code",
        "colab": {
          "base_uri": "https://localhost:8080/",
          "height": 34
        },
        "outputId": "315fc85e-5c31-4976-f8a0-15857cef0d87"
      },
      "source": [
        "# Metrics used for measuring the accuracy and performance of the models\n",
        "from sklearn import metrics\n",
        "from sklearn.metrics import mean_squared_error\n",
        "from sklearn.metrics import mean_absolute_error\n",
        "print('Metrics packages imported!')"
      ],
      "execution_count": 6,
      "outputs": [
        {
          "output_type": "stream",
          "text": [
            "Metrics packages imported!\n"
          ],
          "name": "stdout"
        }
      ]
    },
    {
      "cell_type": "code",
      "metadata": {
        "id": "0BaOcXv_Ugxs",
        "colab_type": "code",
        "colab": {
          "base_uri": "https://localhost:8080/",
          "height": 34
        },
        "outputId": "755638e1-c033-4b4b-c5b4-7121b4663697"
      },
      "source": [
        "import warnings\n",
        "def ignore_warn(*args, **kwargs):\n",
        "    pass\n",
        "warnings.warn = ignore_warn #ignore annoying warning (from sklearn and seaborn)\n",
        "warnings.filterwarnings(\"ignore\", category=DeprecationWarning)\n",
        "print('Deprecation warning will be ignored!')"
      ],
      "execution_count": 7,
      "outputs": [
        {
          "output_type": "stream",
          "text": [
            "Deprecation warning will be ignored!\n"
          ],
          "name": "stdout"
        }
      ]
    },
    {
      "cell_type": "code",
      "metadata": {
        "id": "DgnLi7lJUgz7",
        "colab_type": "code",
        "colab": {}
      },
      "source": [
        ""
      ],
      "execution_count": 0,
      "outputs": []
    },
    {
      "cell_type": "markdown",
      "metadata": {
        "id": "BstKDyJ6Uzeh",
        "colab_type": "text"
      },
      "source": [
        "## Загрузка данных:"
      ]
    },
    {
      "cell_type": "code",
      "metadata": {
        "id": "c2Pi4Z-HQ-EJ",
        "colab_type": "code",
        "colab": {
          "base_uri": "https://localhost:8080/",
          "height": 34
        },
        "outputId": "ae6122bb-bd48-456a-ece2-c8b1f3c75ebf"
      },
      "source": [
        "from google.colab import drive\n",
        "drive.mount('/content/drive')"
      ],
      "execution_count": 8,
      "outputs": [
        {
          "output_type": "stream",
          "text": [
            "Drive already mounted at /content/drive; to attempt to forcibly remount, call drive.mount(\"/content/drive\", force_remount=True).\n"
          ],
          "name": "stdout"
        }
      ]
    },
    {
      "cell_type": "code",
      "metadata": {
        "id": "rS6-Ro8UKDps",
        "colab_type": "code",
        "colab": {}
      },
      "source": [
        "train = pd.read_csv('hhouse2.csv')\n",
        "price = pd.read_csv('hhouse.csv', names=['my_datetime'])\n",
        "test = pd.read_csv('hhouse3.csv')\n",
        "test2=pd.read_csv(\"test.csv\")"
      ],
      "execution_count": 0,
      "outputs": []
    },
    {
      "cell_type": "code",
      "metadata": {
        "id": "c4soaVFtV4-R",
        "colab_type": "code",
        "colab": {}
      },
      "source": [
        ""
      ],
      "execution_count": 0,
      "outputs": []
    },
    {
      "cell_type": "markdown",
      "metadata": {
        "id": "vlk9wRB1VBiU",
        "colab_type": "text"
      },
      "source": [
        "## Отмасштабируем данные, чтобы масштаб был от 0 до 1 и все алгоритмы могли работать корректно:"
      ]
    },
    {
      "cell_type": "code",
      "metadata": {
        "id": "qlQco5hwK-Ov",
        "colab_type": "code",
        "colab": {}
      },
      "source": [
        "sc=RobustScaler()\n",
        "train=sc.fit_transform(train)\n",
        "test=sc.transform(test)"
      ],
      "execution_count": 0,
      "outputs": []
    },
    {
      "cell_type": "code",
      "metadata": {
        "id": "E-04ojwLPAB9",
        "colab_type": "code",
        "outputId": "d0b20b81-49fb-4c13-fa8c-0a1e0bb64221",
        "colab": {
          "base_uri": "https://localhost:8080/",
          "height": 50
        }
      },
      "source": [
        "print(train.shape)\n",
        "print(test.shape)"
      ],
      "execution_count": 11,
      "outputs": [
        {
          "output_type": "stream",
          "text": [
            "(1456, 331)\n",
            "(1459, 331)\n"
          ],
          "name": "stdout"
        }
      ]
    },
    {
      "cell_type": "code",
      "metadata": {
        "id": "ji8Smg-XV0MB",
        "colab_type": "code",
        "colab": {}
      },
      "source": [
        ""
      ],
      "execution_count": 0,
      "outputs": []
    },
    {
      "cell_type": "markdown",
      "metadata": {
        "id": "ovg1GyKbV-DD",
        "colab_type": "text"
      },
      "source": [
        "# Уменьшим количество признаков,оставив наиболее важные:"
      ]
    },
    {
      "cell_type": "code",
      "metadata": {
        "id": "cNvzPf7pO06x",
        "colab_type": "code",
        "outputId": "c3742cb1-33f5-450c-9882-e3e8791ea553",
        "colab": {
          "base_uri": "https://localhost:8080/",
          "height": 84
        }
      },
      "source": [
        "xgb_train = train.copy()\n",
        "xgb_test = test.copy()\n",
        "\n",
        "import xgboost as xgb\n",
        "model = xgb.XGBRegressor()\n",
        "model.fit(xgb_train, price)\n",
        "\n",
        "# Allow the feature importances attribute to select the most important features\n",
        "xgb_feat_red = SelectFromModel(model, prefit = True)\n",
        "\n",
        "# Reduce estimation, validation and test datasets\n",
        "xgb_train = xgb_feat_red.transform(xgb_train)\n",
        "xgb_test = xgb_feat_red.transform(xgb_test)\n",
        "\n",
        "\n",
        "print(\"Results of 'feature_importances_':\")\n",
        "print('X_train: ', xgb_train.shape, '\\nX_test: ', xgb_test.shape)"
      ],
      "execution_count": 12,
      "outputs": [
        {
          "output_type": "stream",
          "text": [
            "[23:07:51] WARNING: /workspace/src/objective/regression_obj.cu:152: reg:linear is now deprecated in favor of reg:squarederror.\n",
            "Results of 'feature_importances_':\n",
            "X_train:  (1456, 48) \n",
            "X_test:  (1459, 48)\n"
          ],
          "name": "stdout"
        }
      ]
    },
    {
      "cell_type": "code",
      "metadata": {
        "id": "W1FJPdORZezH",
        "colab_type": "code",
        "colab": {}
      },
      "source": [
        ""
      ],
      "execution_count": 0,
      "outputs": []
    },
    {
      "cell_type": "markdown",
      "metadata": {
        "id": "C9DC7h2fZ0ID",
        "colab_type": "text"
      },
      "source": [
        "## Разделим данные и обучим на лучшем алгоритме,который показал оптимальные результаты после испытаний:"
      ]
    },
    {
      "cell_type": "code",
      "metadata": {
        "id": "wozCkbS7Ti71",
        "colab_type": "code",
        "colab": {}
      },
      "source": [
        "X_train, X_val, y_train, y_val = train_test_split(xgb_train, price, test_size=0.2, shuffle=False)"
      ],
      "execution_count": 0,
      "outputs": []
    },
    {
      "cell_type": "code",
      "metadata": {
        "id": "flVKcWcrPnUA",
        "colab_type": "code",
        "colab": {}
      },
      "source": [
        "model=Lasso(alpha =0.001, random_state=1)\n"
      ],
      "execution_count": 0,
      "outputs": []
    },
    {
      "cell_type": "code",
      "metadata": {
        "id": "bbwduonwTa3n",
        "colab_type": "code",
        "colab": {}
      },
      "source": [
        "model.fit(X_train, y_train)\n",
        "pred = model.predict(X_val)"
      ],
      "execution_count": 0,
      "outputs": []
    },
    {
      "cell_type": "code",
      "metadata": {
        "id": "KdXmAsqiT6Ct",
        "colab_type": "code",
        "outputId": "1788e44e-4431-400d-a1b7-9c2c967fcabb",
        "colab": {
          "base_uri": "https://localhost:8080/",
          "height": 34
        }
      },
      "source": [
        "mean_absolute_error(pred, y_val)"
      ],
      "execution_count": 16,
      "outputs": [
        {
          "output_type": "execute_result",
          "data": {
            "text/plain": [
              "0.08186685875830978"
            ]
          },
          "metadata": {
            "tags": []
          },
          "execution_count": 16
        }
      ]
    },
    {
      "cell_type": "code",
      "metadata": {
        "id": "4S7Ia7klZ_PG",
        "colab_type": "code",
        "colab": {}
      },
      "source": [
        ""
      ],
      "execution_count": 0,
      "outputs": []
    },
    {
      "cell_type": "markdown",
      "metadata": {
        "id": "EZURvXQWaF-J",
        "colab_type": "text"
      },
      "source": [
        "## Обучим алгоритм на всех данных и сделаем предсказание:"
      ]
    },
    {
      "cell_type": "code",
      "metadata": {
        "id": "Bz4u1SrUT9PV",
        "colab_type": "code",
        "colab": {}
      },
      "source": [
        "model=Lasso(alpha =0.001, random_state=1)"
      ],
      "execution_count": 0,
      "outputs": []
    },
    {
      "cell_type": "code",
      "metadata": {
        "id": "iabUZDxWUcVS",
        "colab_type": "code",
        "outputId": "3d547b19-a1f4-424d-cc0d-8a12b31d6b21",
        "colab": {
          "base_uri": "https://localhost:8080/",
          "height": 67
        }
      },
      "source": [
        "model.fit(xgb_train,price)"
      ],
      "execution_count": 18,
      "outputs": [
        {
          "output_type": "execute_result",
          "data": {
            "text/plain": [
              "Lasso(alpha=0.001, copy_X=True, fit_intercept=True, max_iter=1000,\n",
              "      normalize=False, positive=False, precompute=False, random_state=1,\n",
              "      selection='cyclic', tol=0.0001, warm_start=False)"
            ]
          },
          "metadata": {
            "tags": []
          },
          "execution_count": 18
        }
      ]
    },
    {
      "cell_type": "code",
      "metadata": {
        "id": "yjXriTpXUkTc",
        "colab_type": "code",
        "colab": {}
      },
      "source": [
        "prediction = model.predict(xgb_test)\n",
        "preds=np.exp(prediction)"
      ],
      "execution_count": 0,
      "outputs": []
    },
    {
      "cell_type": "code",
      "metadata": {
        "id": "Vqfw-0ifUrf-",
        "colab_type": "code",
        "colab": {}
      },
      "source": [
        "output=pd.DataFrame({'Id':test2.Id, 'SalePrice':preds})\n",
        "output.to_csv('price_house_01.csv', index=False)"
      ],
      "execution_count": 0,
      "outputs": []
    },
    {
      "cell_type": "code",
      "metadata": {
        "id": "q3jtXCJMV6V3",
        "colab_type": "code",
        "colab": {}
      },
      "source": [
        ""
      ],
      "execution_count": 0,
      "outputs": []
    },
    {
      "cell_type": "markdown",
      "metadata": {
        "id": "zRPtX8l6awnK",
        "colab_type": "text"
      },
      "source": [
        "## Переберём различные варианты параметров алгоритма, используя GridSearchCV и выберем самые оптимальные:"
      ]
    },
    {
      "cell_type": "code",
      "metadata": {
        "id": "S_cSiNk8ed2X",
        "colab_type": "code",
        "colab": {}
      },
      "source": [
        "model=Lasso(random_state=1)"
      ],
      "execution_count": 0,
      "outputs": []
    },
    {
      "cell_type": "code",
      "metadata": {
        "id": "p5F2WI-Ugk_n",
        "colab_type": "code",
        "colab": {}
      },
      "source": [
        "ww = np.linspace(-0.1,0.1,20)"
      ],
      "execution_count": 0,
      "outputs": []
    },
    {
      "cell_type": "code",
      "metadata": {
        "id": "7K7-yjVFglCY",
        "colab_type": "code",
        "colab": {}
      },
      "source": [
        "LASS_param_grid = {'alpha': [0.0005050505050505048], 'max_iter': [100,200,300,350,400,500], 'tol': ww}"
      ],
      "execution_count": 0,
      "outputs": []
    },
    {
      "cell_type": "code",
      "metadata": {
        "id": "e7_NjTZcglH1",
        "colab_type": "code",
        "colab": {}
      },
      "source": [
        "GS = GridSearchCV(model,LASS_param_grid, scoring = 'neg_mean_absolute_error', cv = 10 )"
      ],
      "execution_count": 0,
      "outputs": []
    },
    {
      "cell_type": "code",
      "metadata": {
        "id": "OEtIt27HglKn",
        "colab_type": "code",
        "colab": {
          "base_uri": "https://localhost:8080/",
          "height": 252
        },
        "outputId": "b0386db8-8acc-47c9-95b9-1ed668e0c957"
      },
      "source": [
        "GS.fit(xgb_train,price)"
      ],
      "execution_count": 25,
      "outputs": [
        {
          "output_type": "execute_result",
          "data": {
            "text/plain": [
              "GridSearchCV(cv=10, error_score=nan,\n",
              "             estimator=Lasso(alpha=1.0, copy_X=True, fit_intercept=True,\n",
              "                             max_iter=1000, normalize=False, positive=False,\n",
              "                             precompute=False, random_state=1,\n",
              "                             selection='cyclic', tol=0.0001, warm_start=False),\n",
              "             iid='deprecated', n_jobs=None,\n",
              "             param_grid={'alpha': [0.0005050505050505048],\n",
              "                         'max_iter': [100, 200, 300, 350, 400, 500],\n",
              "                         'tol': array([-0.1       , -0.08947368, -0.07894737, -0.06842105, -0.05789474,\n",
              "       -0.04736842, -0.03684211, -0.02631579, -0.01578947, -0.00526316,\n",
              "        0.00526316,  0.01578947,  0.02631579,  0.03684211,  0.04736842,\n",
              "        0.05789474,  0.06842105,  0.07894737,  0.08947368,  0.1       ])},\n",
              "             pre_dispatch='2*n_jobs', refit=True, return_train_score=False,\n",
              "             scoring='neg_mean_absolute_error', verbose=0)"
            ]
          },
          "metadata": {
            "tags": []
          },
          "execution_count": 25
        }
      ]
    },
    {
      "cell_type": "code",
      "metadata": {
        "id": "Z_eY1ivKglSD",
        "colab_type": "code",
        "colab": {
          "base_uri": "https://localhost:8080/",
          "height": 50
        },
        "outputId": "2785a658-bf2f-4394-8efc-8a2b068b23e5"
      },
      "source": [
        "print(GS.best_params_)\n",
        "print(GS.best_score_)"
      ],
      "execution_count": 26,
      "outputs": [
        {
          "output_type": "stream",
          "text": [
            "{'alpha': 0.0005050505050505048, 'max_iter': 500, 'tol': -0.1}\n",
            "-0.08483518465018755\n"
          ],
          "name": "stdout"
        }
      ]
    },
    {
      "cell_type": "code",
      "metadata": {
        "id": "br7SegGJglFZ",
        "colab_type": "code",
        "colab": {}
      },
      "source": [
        ""
      ],
      "execution_count": 0,
      "outputs": []
    },
    {
      "cell_type": "markdown",
      "metadata": {
        "id": "J5ML-hhNeetK",
        "colab_type": "text"
      },
      "source": [
        "## Обучим алгоритм c новыми параметрами на всех данных и сделаем предсказание:"
      ]
    },
    {
      "cell_type": "code",
      "metadata": {
        "id": "RIdaiGisV6eW",
        "colab_type": "code",
        "colab": {}
      },
      "source": [
        "BestModel = GS.best_estimator_"
      ],
      "execution_count": 0,
      "outputs": []
    },
    {
      "cell_type": "code",
      "metadata": {
        "id": "A6qwVugXV6Us",
        "colab_type": "code",
        "colab": {}
      },
      "source": [
        "prediction = BestModel.predict(xgb_test)\n",
        "preds=np.exp(prediction)"
      ],
      "execution_count": 0,
      "outputs": []
    },
    {
      "cell_type": "code",
      "metadata": {
        "id": "osFKuU2QV6Ti",
        "colab_type": "code",
        "colab": {}
      },
      "source": [
        "output=pd.DataFrame({'Id':test2.Id, 'SalePrice':preds})\n",
        "output.to_csv('price_house_02.csv', index=False)"
      ],
      "execution_count": 0,
      "outputs": []
    },
    {
      "cell_type": "code",
      "metadata": {
        "id": "wY709NZ5cK33",
        "colab_type": "code",
        "colab": {}
      },
      "source": [
        ""
      ],
      "execution_count": 0,
      "outputs": []
    },
    {
      "cell_type": "code",
      "metadata": {
        "id": "HfgPRKDvcK8S",
        "colab_type": "code",
        "colab": {}
      },
      "source": [
        ""
      ],
      "execution_count": 0,
      "outputs": []
    },
    {
      "cell_type": "markdown",
      "metadata": {
        "id": "Iar7UXHPB_Us",
        "colab_type": "text"
      },
      "source": [
        "## Сделаем стекинг и блэндинг:"
      ]
    },
    {
      "cell_type": "code",
      "metadata": {
        "id": "bWoTLGvWPenD",
        "colab_type": "code",
        "colab": {}
      },
      "source": [
        "price2 = price[\"my_datetime\"]"
      ],
      "execution_count": 0,
      "outputs": []
    },
    {
      "cell_type": "code",
      "metadata": {
        "id": "ysP4wDzjcFrF",
        "colab_type": "code",
        "outputId": "5ae44327-066a-4216-e3fb-f5a8084e3b5a",
        "colab": {
          "base_uri": "https://localhost:8080/",
          "height": 84
        }
      },
      "source": [
        "# Next we want to sample our training data to test for performance of robustness ans accuracy, before applying to the test data\n",
        "X_train, X_test, Y_train, Y_test = model_selection.train_test_split(xgb_train, price2, test_size=0.3, random_state=42)\n",
        "\n",
        "print('X_train: ', X_train.shape, '\\nX_test: ', X_test.shape, '\\nY_train: ', Y_train.shape, '\\nY_test: ', Y_test.shape)"
      ],
      "execution_count": 31,
      "outputs": [
        {
          "output_type": "stream",
          "text": [
            "X_train:  (1019, 48) \n",
            "X_test:  (437, 48) \n",
            "Y_train:  (1019,) \n",
            "Y_test:  (437,)\n"
          ],
          "name": "stdout"
        }
      ]
    },
    {
      "cell_type": "code",
      "metadata": {
        "id": "nmLQAX6Qe6GM",
        "colab_type": "code",
        "outputId": "f854295d-4098-4a71-a888-8a020881b962",
        "colab": {
          "base_uri": "https://localhost:8080/",
          "height": 519
        }
      },
      "source": [
        "import xgboost as xgb\n",
        "#Machine Learning Algorithm (MLA) Selection and Initialization\n",
        "models = [KernelRidge(), ElasticNet(), Lasso(), GradientBoostingRegressor(), BayesianRidge(), LassoLarsIC(), RandomForestRegressor(), xgb.XGBRegressor()]\n",
        "\n",
        "# First I will use ShuffleSplit as a way of randomising the cross validation samples.\n",
        "shuff = ShuffleSplit(n_splits=5, test_size=0.2, random_state=42)\n",
        "\n",
        "#create table to compare MLA metrics\n",
        "columns = ['Name', 'Parameters', 'Train Accuracy Mean', 'Test Accuracy']\n",
        "before_model_compare = pd.DataFrame(columns = columns)\n",
        "\n",
        "#index through models and save performance to table\n",
        "row_index = 0\n",
        "for alg in models:\n",
        "\n",
        "    #set name and parameters\n",
        "    model_name = alg.__class__.__name__\n",
        "    before_model_compare.loc[row_index, 'Name'] = model_name\n",
        "    before_model_compare.loc[row_index, 'Parameters'] = str(alg.get_params())\n",
        "    \n",
        "    alg.fit(X_train, Y_train)\n",
        "    \n",
        "    #score model with cross validation: http://scikit-learn.org/stable/modules/generated/sklearn.model_selection.cross_validate.html#sklearn.model_selection.cross_validate\n",
        "    training_results = np.sqrt((-cross_val_score(alg, X_train, Y_train, cv = shuff, scoring= 'neg_mean_squared_error')).mean())\n",
        "    test_results = np.sqrt(((Y_test-alg.predict(X_test))**2).mean())\n",
        "    \n",
        "    before_model_compare.loc[row_index, 'Train Accuracy Mean'] = (training_results)*100\n",
        "    before_model_compare.loc[row_index, 'Test Accuracy'] = (test_results)*100\n",
        "    \n",
        "    row_index+=1\n",
        "    print(row_index, alg.__class__.__name__, 'trained...')\n",
        "\n",
        "decimals = 3\n",
        "before_model_compare['Train Accuracy Mean'] = before_model_compare['Train Accuracy Mean'].apply(lambda x: round(x, decimals))\n",
        "before_model_compare['Test Accuracy'] = before_model_compare['Test Accuracy'].apply(lambda x: round(x, decimals))\n",
        "before_model_compare"
      ],
      "execution_count": 32,
      "outputs": [
        {
          "output_type": "stream",
          "text": [
            "1 KernelRidge trained...\n",
            "2 ElasticNet trained...\n",
            "3 Lasso trained...\n",
            "4 GradientBoostingRegressor trained...\n",
            "5 BayesianRidge trained...\n",
            "6 LassoLarsIC trained...\n",
            "7 RandomForestRegressor trained...\n",
            "[23:08:17] WARNING: /workspace/src/objective/regression_obj.cu:152: reg:linear is now deprecated in favor of reg:squarederror.\n",
            "[23:08:17] WARNING: /workspace/src/objective/regression_obj.cu:152: reg:linear is now deprecated in favor of reg:squarederror.\n",
            "[23:08:17] WARNING: /workspace/src/objective/regression_obj.cu:152: reg:linear is now deprecated in favor of reg:squarederror.\n",
            "[23:08:17] WARNING: /workspace/src/objective/regression_obj.cu:152: reg:linear is now deprecated in favor of reg:squarederror.\n",
            "[23:08:17] WARNING: /workspace/src/objective/regression_obj.cu:152: reg:linear is now deprecated in favor of reg:squarederror.\n",
            "[23:08:17] WARNING: /workspace/src/objective/regression_obj.cu:152: reg:linear is now deprecated in favor of reg:squarederror.\n",
            "8 XGBRegressor trained...\n"
          ],
          "name": "stdout"
        },
        {
          "output_type": "execute_result",
          "data": {
            "text/html": [
              "<div>\n",
              "<style scoped>\n",
              "    .dataframe tbody tr th:only-of-type {\n",
              "        vertical-align: middle;\n",
              "    }\n",
              "\n",
              "    .dataframe tbody tr th {\n",
              "        vertical-align: top;\n",
              "    }\n",
              "\n",
              "    .dataframe thead th {\n",
              "        text-align: right;\n",
              "    }\n",
              "</style>\n",
              "<table border=\"1\" class=\"dataframe\">\n",
              "  <thead>\n",
              "    <tr style=\"text-align: right;\">\n",
              "      <th></th>\n",
              "      <th>Name</th>\n",
              "      <th>Parameters</th>\n",
              "      <th>Train Accuracy Mean</th>\n",
              "      <th>Test Accuracy</th>\n",
              "    </tr>\n",
              "  </thead>\n",
              "  <tbody>\n",
              "    <tr>\n",
              "      <th>0</th>\n",
              "      <td>KernelRidge</td>\n",
              "      <td>{'alpha': 1, 'coef0': 1, 'degree': 3, 'gamma':...</td>\n",
              "      <td>251.763</td>\n",
              "      <td>235.119</td>\n",
              "    </tr>\n",
              "    <tr>\n",
              "      <th>1</th>\n",
              "      <td>ElasticNet</td>\n",
              "      <td>{'alpha': 1.0, 'copy_X': True, 'fit_intercept'...</td>\n",
              "      <td>38.973</td>\n",
              "      <td>38.721</td>\n",
              "    </tr>\n",
              "    <tr>\n",
              "      <th>2</th>\n",
              "      <td>Lasso</td>\n",
              "      <td>{'alpha': 1.0, 'copy_X': True, 'fit_intercept'...</td>\n",
              "      <td>38.973</td>\n",
              "      <td>38.721</td>\n",
              "    </tr>\n",
              "    <tr>\n",
              "      <th>3</th>\n",
              "      <td>GradientBoostingRegressor</td>\n",
              "      <td>{'alpha': 0.9, 'ccp_alpha': 0.0, 'criterion': ...</td>\n",
              "      <td>12.695</td>\n",
              "      <td>12.310</td>\n",
              "    </tr>\n",
              "    <tr>\n",
              "      <th>4</th>\n",
              "      <td>BayesianRidge</td>\n",
              "      <td>{'alpha_1': 1e-06, 'alpha_2': 1e-06, 'alpha_in...</td>\n",
              "      <td>11.746</td>\n",
              "      <td>11.863</td>\n",
              "    </tr>\n",
              "    <tr>\n",
              "      <th>5</th>\n",
              "      <td>LassoLarsIC</td>\n",
              "      <td>{'copy_X': True, 'criterion': 'aic', 'eps': 2....</td>\n",
              "      <td>12.220</td>\n",
              "      <td>12.504</td>\n",
              "    </tr>\n",
              "    <tr>\n",
              "      <th>6</th>\n",
              "      <td>RandomForestRegressor</td>\n",
              "      <td>{'bootstrap': True, 'ccp_alpha': 0.0, 'criteri...</td>\n",
              "      <td>13.514</td>\n",
              "      <td>14.156</td>\n",
              "    </tr>\n",
              "    <tr>\n",
              "      <th>7</th>\n",
              "      <td>XGBRegressor</td>\n",
              "      <td>{'base_score': 0.5, 'booster': 'gbtree', 'cols...</td>\n",
              "      <td>12.658</td>\n",
              "      <td>12.158</td>\n",
              "    </tr>\n",
              "  </tbody>\n",
              "</table>\n",
              "</div>"
            ],
            "text/plain": [
              "                        Name  ... Test Accuracy\n",
              "0                KernelRidge  ...       235.119\n",
              "1                 ElasticNet  ...        38.721\n",
              "2                      Lasso  ...        38.721\n",
              "3  GradientBoostingRegressor  ...        12.310\n",
              "4              BayesianRidge  ...        11.863\n",
              "5                LassoLarsIC  ...        12.504\n",
              "6      RandomForestRegressor  ...        14.156\n",
              "7               XGBRegressor  ...        12.158\n",
              "\n",
              "[8 rows x 4 columns]"
            ]
          },
          "metadata": {
            "tags": []
          },
          "execution_count": 32
        }
      ]
    },
    {
      "cell_type": "code",
      "metadata": {
        "id": "411cW8SmV1Ty",
        "colab_type": "code",
        "outputId": "47ca6d16-9239-4d81-df8f-ab1fcfcd9deb",
        "colab": {
          "base_uri": "https://localhost:8080/",
          "height": 1000
        }
      },
      "source": [
        "models = [KernelRidge(), ElasticNet(), Lasso(), GradientBoostingRegressor(), BayesianRidge(), LassoLarsIC(), RandomForestRegressor(), xgb.XGBRegressor()]\n",
        "\n",
        "KR_param_grid = {'alpha': [0.1], 'coef0': [100], 'degree': [1], 'gamma': [None], 'kernel': ['polynomial']}\n",
        "EN_param_grid = {'alpha': [0.001], 'copy_X': [True], 'l1_ratio': [0.6], 'fit_intercept': [True], 'normalize': [False], \n",
        "                         'precompute': [False], 'max_iter': [300], 'tol': [0.001], 'selection': ['random'], 'random_state': [None]}\n",
        "LASS_param_grid = {'alpha': [0.0005], 'copy_X': [True], 'fit_intercept': [True], 'normalize': [False], 'precompute': [False], \n",
        "                    'max_iter': [300], 'tol': [0.01], 'selection': ['random'], 'random_state': [None]}\n",
        "GB_param_grid = {'loss': ['huber'], 'learning_rate': [0.1], 'n_estimators': [300], 'max_depth': [3], \n",
        "                                        'min_samples_split': [0.0025], 'min_samples_leaf': [5]}\n",
        "BR_param_grid = {'n_iter': [200], 'tol': [0.00001], 'alpha_1': [0.00000001], 'alpha_2': [0.000005], 'lambda_1': [0.000005], \n",
        "                 'lambda_2': [0.00000001], 'copy_X': [True]}\n",
        "LL_param_grid = {'criterion': ['aic'], 'normalize': [True], 'max_iter': [100], 'copy_X': [True], 'precompute': ['auto'], 'eps': [0.000001]}\n",
        "RFR_param_grid = {'n_estimators': [50], 'max_features': ['auto'], 'max_depth': [None], 'min_samples_split': [5], 'min_samples_leaf': [2]}\n",
        "XGB_param_grid = {'max_depth': [3], 'learning_rate': [0.1], 'n_estimators': [300], 'booster': ['gbtree'], 'gamma': [0], 'reg_alpha': [0.1],\n",
        "                  'reg_lambda': [0.7], 'max_delta_step': [0], 'min_child_weight': [1], 'colsample_bytree': [0.5], 'colsample_bylevel': [0.2],\n",
        "                  'scale_pos_weight': [1]}\n",
        "params_grid = [KR_param_grid, EN_param_grid, LASS_param_grid, GB_param_grid, BR_param_grid, LL_param_grid, RFR_param_grid, XGB_param_grid]\n",
        "\n",
        "after_model_compare = pd.DataFrame(columns = columns)\n",
        "\n",
        "row_index = 0\n",
        "for alg in models:\n",
        "    \n",
        "    gs_alg = GridSearchCV(alg, param_grid = params_grid[0], cv = shuff, scoring = 'neg_mean_squared_error', n_jobs=-1)\n",
        "    params_grid.pop(0)\n",
        "\n",
        "    #set name and parameters\n",
        "    model_name = alg.__class__.__name__\n",
        "    after_model_compare.loc[row_index, 'Name'] = model_name\n",
        "    \n",
        "    gs_alg.fit(X_train, Y_train)\n",
        "    gs_best = gs_alg.best_estimator_\n",
        "    after_model_compare.loc[row_index, 'Parameters'] = str(gs_alg.best_params_)\n",
        "    \n",
        "    #score model with cross validation: http://scikit-learn.org/stable/modules/generated/sklearn.model_selection.cross_validate.html#sklearn.model_selection.cross_validate\n",
        "    after_training_results = np.sqrt(-gs_alg.best_score_)\n",
        "    after_test_results = np.sqrt(((Y_test-gs_alg.predict(X_test))**2).mean())\n",
        "    \n",
        "    after_model_compare.loc[row_index, 'Train Accuracy Mean'] = (after_training_results)*100\n",
        "    after_model_compare.loc[row_index, 'Test Accuracy'] = (after_test_results)*100\n",
        "    \n",
        "    row_index+=1\n",
        "    print(gs_best)\n",
        "    print(row_index, alg.__class__.__name__, 'trained...')\n",
        "\n",
        "decimals = 3\n",
        "after_model_compare['Train Accuracy Mean'] = after_model_compare['Train Accuracy Mean'].apply(lambda x: round(x, decimals))\n",
        "after_model_compare['Test Accuracy'] = after_model_compare['Test Accuracy'].apply(lambda x: round(x, decimals))\n",
        "after_model_compare"
      ],
      "execution_count": 33,
      "outputs": [
        {
          "output_type": "stream",
          "text": [
            "KernelRidge(alpha=0.1, coef0=100, degree=1, gamma=None, kernel='polynomial',\n",
            "            kernel_params=None)\n",
            "1 KernelRidge trained...\n",
            "ElasticNet(alpha=0.001, copy_X=True, fit_intercept=True, l1_ratio=0.6,\n",
            "           max_iter=300, normalize=False, positive=False, precompute=False,\n",
            "           random_state=None, selection='random', tol=0.001, warm_start=False)\n",
            "2 ElasticNet trained...\n",
            "Lasso(alpha=0.0005, copy_X=True, fit_intercept=True, max_iter=300,\n",
            "      normalize=False, positive=False, precompute=False, random_state=None,\n",
            "      selection='random', tol=0.01, warm_start=False)\n",
            "3 Lasso trained...\n",
            "GradientBoostingRegressor(alpha=0.9, ccp_alpha=0.0, criterion='friedman_mse',\n",
            "                          init=None, learning_rate=0.1, loss='huber',\n",
            "                          max_depth=3, max_features=None, max_leaf_nodes=None,\n",
            "                          min_impurity_decrease=0.0, min_impurity_split=None,\n",
            "                          min_samples_leaf=5, min_samples_split=0.0025,\n",
            "                          min_weight_fraction_leaf=0.0, n_estimators=300,\n",
            "                          n_iter_no_change=None, presort='deprecated',\n",
            "                          random_state=None, subsample=1.0, tol=0.0001,\n",
            "                          validation_fraction=0.1, verbose=0, warm_start=False)\n",
            "4 GradientBoostingRegressor trained...\n",
            "BayesianRidge(alpha_1=1e-08, alpha_2=5e-06, alpha_init=None,\n",
            "              compute_score=False, copy_X=True, fit_intercept=True,\n",
            "              lambda_1=5e-06, lambda_2=1e-08, lambda_init=None, n_iter=200,\n",
            "              normalize=False, tol=1e-05, verbose=False)\n",
            "5 BayesianRidge trained...\n",
            "LassoLarsIC(copy_X=True, criterion='aic', eps=1e-06, fit_intercept=True,\n",
            "            max_iter=100, normalize=True, positive=False, precompute='auto',\n",
            "            verbose=False)\n",
            "6 LassoLarsIC trained...\n",
            "RandomForestRegressor(bootstrap=True, ccp_alpha=0.0, criterion='mse',\n",
            "                      max_depth=None, max_features='auto', max_leaf_nodes=None,\n",
            "                      max_samples=None, min_impurity_decrease=0.0,\n",
            "                      min_impurity_split=None, min_samples_leaf=2,\n",
            "                      min_samples_split=5, min_weight_fraction_leaf=0.0,\n",
            "                      n_estimators=50, n_jobs=None, oob_score=False,\n",
            "                      random_state=None, verbose=0, warm_start=False)\n",
            "7 RandomForestRegressor trained...\n",
            "[23:08:28] WARNING: /workspace/src/objective/regression_obj.cu:152: reg:linear is now deprecated in favor of reg:squarederror.\n",
            "XGBRegressor(base_score=0.5, booster='gbtree', colsample_bylevel=0.2,\n",
            "             colsample_bynode=1, colsample_bytree=0.5, gamma=0,\n",
            "             importance_type='gain', learning_rate=0.1, max_delta_step=0,\n",
            "             max_depth=3, min_child_weight=1, missing=None, n_estimators=300,\n",
            "             n_jobs=1, nthread=None, objective='reg:linear', random_state=0,\n",
            "             reg_alpha=0.1, reg_lambda=0.7, scale_pos_weight=1, seed=None,\n",
            "             silent=None, subsample=1, verbosity=1)\n",
            "8 XGBRegressor trained...\n"
          ],
          "name": "stdout"
        },
        {
          "output_type": "execute_result",
          "data": {
            "text/html": [
              "<div>\n",
              "<style scoped>\n",
              "    .dataframe tbody tr th:only-of-type {\n",
              "        vertical-align: middle;\n",
              "    }\n",
              "\n",
              "    .dataframe tbody tr th {\n",
              "        vertical-align: top;\n",
              "    }\n",
              "\n",
              "    .dataframe thead th {\n",
              "        text-align: right;\n",
              "    }\n",
              "</style>\n",
              "<table border=\"1\" class=\"dataframe\">\n",
              "  <thead>\n",
              "    <tr style=\"text-align: right;\">\n",
              "      <th></th>\n",
              "      <th>Name</th>\n",
              "      <th>Parameters</th>\n",
              "      <th>Train Accuracy Mean</th>\n",
              "      <th>Test Accuracy</th>\n",
              "    </tr>\n",
              "  </thead>\n",
              "  <tbody>\n",
              "    <tr>\n",
              "      <th>0</th>\n",
              "      <td>KernelRidge</td>\n",
              "      <td>{'alpha': 0.1, 'coef0': 100, 'degree': 1, 'gam...</td>\n",
              "      <td>11.735</td>\n",
              "      <td>11.889</td>\n",
              "    </tr>\n",
              "    <tr>\n",
              "      <th>1</th>\n",
              "      <td>ElasticNet</td>\n",
              "      <td>{'alpha': 0.001, 'copy_X': True, 'fit_intercep...</td>\n",
              "      <td>11.799</td>\n",
              "      <td>11.877</td>\n",
              "    </tr>\n",
              "    <tr>\n",
              "      <th>2</th>\n",
              "      <td>Lasso</td>\n",
              "      <td>{'alpha': 0.0005, 'copy_X': True, 'fit_interce...</td>\n",
              "      <td>11.850</td>\n",
              "      <td>11.832</td>\n",
              "    </tr>\n",
              "    <tr>\n",
              "      <th>3</th>\n",
              "      <td>GradientBoostingRegressor</td>\n",
              "      <td>{'learning_rate': 0.1, 'loss': 'huber', 'max_d...</td>\n",
              "      <td>12.177</td>\n",
              "      <td>12.249</td>\n",
              "    </tr>\n",
              "    <tr>\n",
              "      <th>4</th>\n",
              "      <td>BayesianRidge</td>\n",
              "      <td>{'alpha_1': 1e-08, 'alpha_2': 5e-06, 'copy_X':...</td>\n",
              "      <td>11.746</td>\n",
              "      <td>11.863</td>\n",
              "    </tr>\n",
              "    <tr>\n",
              "      <th>5</th>\n",
              "      <td>LassoLarsIC</td>\n",
              "      <td>{'copy_X': True, 'criterion': 'aic', 'eps': 1e...</td>\n",
              "      <td>12.214</td>\n",
              "      <td>12.504</td>\n",
              "    </tr>\n",
              "    <tr>\n",
              "      <th>6</th>\n",
              "      <td>RandomForestRegressor</td>\n",
              "      <td>{'max_depth': None, 'max_features': 'auto', 'm...</td>\n",
              "      <td>13.663</td>\n",
              "      <td>14.152</td>\n",
              "    </tr>\n",
              "    <tr>\n",
              "      <th>7</th>\n",
              "      <td>XGBRegressor</td>\n",
              "      <td>{'booster': 'gbtree', 'colsample_bylevel': 0.2...</td>\n",
              "      <td>12.246</td>\n",
              "      <td>11.753</td>\n",
              "    </tr>\n",
              "  </tbody>\n",
              "</table>\n",
              "</div>"
            ],
            "text/plain": [
              "                        Name  ... Test Accuracy\n",
              "0                KernelRidge  ...        11.889\n",
              "1                 ElasticNet  ...        11.877\n",
              "2                      Lasso  ...        11.832\n",
              "3  GradientBoostingRegressor  ...        12.249\n",
              "4              BayesianRidge  ...        11.863\n",
              "5                LassoLarsIC  ...        12.504\n",
              "6      RandomForestRegressor  ...        14.152\n",
              "7               XGBRegressor  ...        11.753\n",
              "\n",
              "[8 rows x 4 columns]"
            ]
          },
          "metadata": {
            "tags": []
          },
          "execution_count": 33
        }
      ]
    },
    {
      "cell_type": "code",
      "metadata": {
        "id": "L2bV8rvAlVrW",
        "colab_type": "code",
        "colab": {}
      },
      "source": [
        ""
      ],
      "execution_count": 0,
      "outputs": []
    },
    {
      "cell_type": "code",
      "metadata": {
        "id": "TXol0UUYUZj4",
        "colab_type": "code",
        "outputId": "8f22d989-dc3b-4b46-c97e-e97ac9b1af8a",
        "colab": {
          "base_uri": "https://localhost:8080/",
          "height": 454
        }
      },
      "source": [
        "models = [KernelRidge(), ElasticNet(), Lasso(), GradientBoostingRegressor(), BayesianRidge(), LassoLarsIC(), RandomForestRegressor(), xgb.XGBRegressor()]\n",
        "names = ['KernelRidge', 'ElasticNet', 'Lasso', 'Gradient Boosting', 'Bayesian Ridge', 'Lasso Lars IC', 'Random Forest', 'XGBoost']\n",
        "params_grid = [KR_param_grid, EN_param_grid, LASS_param_grid, GB_param_grid, BR_param_grid, LL_param_grid, RFR_param_grid, XGB_param_grid]\n",
        "stacked_validation_train = pd.DataFrame()\n",
        "stacked_test_train = pd.DataFrame()\n",
        "\n",
        "row_index=0\n",
        "\n",
        "for alg in models:\n",
        "    \n",
        "    gs_alg = GridSearchCV(alg, param_grid = params_grid[0], cv = shuff, scoring = 'neg_mean_squared_error', n_jobs=-1)\n",
        "    params_grid.pop(0)\n",
        "    \n",
        "    gs_alg.fit(X_train, Y_train)\n",
        "    gs_best = gs_alg.best_estimator_\n",
        "    stacked_validation_train.insert(loc = row_index, column = names[0], value = gs_best.predict(X_test))\n",
        "    print(row_index+1, alg.__class__.__name__, 'predictions added to stacking validation dataset...')\n",
        "    \n",
        "    stacked_test_train.insert(loc = row_index, column = names[0], value = gs_best.predict(xgb_test))\n",
        "    print(row_index+1, alg.__class__.__name__, 'predictions added to stacking test dataset...')\n",
        "    print(\"-\"*50)\n",
        "    names.pop(0)\n",
        "    \n",
        "    row_index+=1\n",
        "    \n",
        "print('Done')"
      ],
      "execution_count": 34,
      "outputs": [
        {
          "output_type": "stream",
          "text": [
            "1 KernelRidge predictions added to stacking validation dataset...\n",
            "1 KernelRidge predictions added to stacking test dataset...\n",
            "--------------------------------------------------\n",
            "2 ElasticNet predictions added to stacking validation dataset...\n",
            "2 ElasticNet predictions added to stacking test dataset...\n",
            "--------------------------------------------------\n",
            "3 Lasso predictions added to stacking validation dataset...\n",
            "3 Lasso predictions added to stacking test dataset...\n",
            "--------------------------------------------------\n",
            "4 GradientBoostingRegressor predictions added to stacking validation dataset...\n",
            "4 GradientBoostingRegressor predictions added to stacking test dataset...\n",
            "--------------------------------------------------\n",
            "5 BayesianRidge predictions added to stacking validation dataset...\n",
            "5 BayesianRidge predictions added to stacking test dataset...\n",
            "--------------------------------------------------\n",
            "6 LassoLarsIC predictions added to stacking validation dataset...\n",
            "6 LassoLarsIC predictions added to stacking test dataset...\n",
            "--------------------------------------------------\n",
            "7 RandomForestRegressor predictions added to stacking validation dataset...\n",
            "7 RandomForestRegressor predictions added to stacking test dataset...\n",
            "--------------------------------------------------\n",
            "[23:08:37] WARNING: /workspace/src/objective/regression_obj.cu:152: reg:linear is now deprecated in favor of reg:squarederror.\n",
            "8 XGBRegressor predictions added to stacking validation dataset...\n",
            "8 XGBRegressor predictions added to stacking test dataset...\n",
            "--------------------------------------------------\n",
            "Done\n"
          ],
          "name": "stdout"
        }
      ]
    },
    {
      "cell_type": "code",
      "metadata": {
        "id": "OIZenVfEfzL_",
        "colab_type": "code",
        "outputId": "ab5470b2-aa84-42c7-8efe-a67e19eede44",
        "colab": {
          "base_uri": "https://localhost:8080/",
          "height": 195
        }
      },
      "source": [
        "stacked_validation_train.head()"
      ],
      "execution_count": 35,
      "outputs": [
        {
          "output_type": "execute_result",
          "data": {
            "text/html": [
              "<div>\n",
              "<style scoped>\n",
              "    .dataframe tbody tr th:only-of-type {\n",
              "        vertical-align: middle;\n",
              "    }\n",
              "\n",
              "    .dataframe tbody tr th {\n",
              "        vertical-align: top;\n",
              "    }\n",
              "\n",
              "    .dataframe thead th {\n",
              "        text-align: right;\n",
              "    }\n",
              "</style>\n",
              "<table border=\"1\" class=\"dataframe\">\n",
              "  <thead>\n",
              "    <tr style=\"text-align: right;\">\n",
              "      <th></th>\n",
              "      <th>KernelRidge</th>\n",
              "      <th>ElasticNet</th>\n",
              "      <th>Lasso</th>\n",
              "      <th>Gradient Boosting</th>\n",
              "      <th>Bayesian Ridge</th>\n",
              "      <th>Lasso Lars IC</th>\n",
              "      <th>Random Forest</th>\n",
              "      <th>XGBoost</th>\n",
              "    </tr>\n",
              "  </thead>\n",
              "  <tbody>\n",
              "    <tr>\n",
              "      <th>0</th>\n",
              "      <td>12.073728</td>\n",
              "      <td>12.051503</td>\n",
              "      <td>12.056283</td>\n",
              "      <td>12.115832</td>\n",
              "      <td>12.075085</td>\n",
              "      <td>12.044550</td>\n",
              "      <td>12.107718</td>\n",
              "      <td>12.105165</td>\n",
              "    </tr>\n",
              "    <tr>\n",
              "      <th>1</th>\n",
              "      <td>11.909246</td>\n",
              "      <td>11.918362</td>\n",
              "      <td>11.916213</td>\n",
              "      <td>12.041782</td>\n",
              "      <td>11.911173</td>\n",
              "      <td>11.956942</td>\n",
              "      <td>12.068145</td>\n",
              "      <td>12.023828</td>\n",
              "    </tr>\n",
              "    <tr>\n",
              "      <th>2</th>\n",
              "      <td>11.785589</td>\n",
              "      <td>11.785172</td>\n",
              "      <td>11.785755</td>\n",
              "      <td>11.874111</td>\n",
              "      <td>11.786584</td>\n",
              "      <td>11.768158</td>\n",
              "      <td>11.859008</td>\n",
              "      <td>11.766501</td>\n",
              "    </tr>\n",
              "    <tr>\n",
              "      <th>3</th>\n",
              "      <td>11.814794</td>\n",
              "      <td>11.809117</td>\n",
              "      <td>11.821062</td>\n",
              "      <td>11.838076</td>\n",
              "      <td>11.815880</td>\n",
              "      <td>11.793635</td>\n",
              "      <td>11.756246</td>\n",
              "      <td>11.756207</td>\n",
              "    </tr>\n",
              "    <tr>\n",
              "      <th>4</th>\n",
              "      <td>11.357140</td>\n",
              "      <td>11.353345</td>\n",
              "      <td>11.353980</td>\n",
              "      <td>11.175413</td>\n",
              "      <td>11.357378</td>\n",
              "      <td>11.363881</td>\n",
              "      <td>11.329136</td>\n",
              "      <td>11.344832</td>\n",
              "    </tr>\n",
              "  </tbody>\n",
              "</table>\n",
              "</div>"
            ],
            "text/plain": [
              "   KernelRidge  ElasticNet      Lasso  ...  Lasso Lars IC  Random Forest    XGBoost\n",
              "0    12.073728   12.051503  12.056283  ...      12.044550      12.107718  12.105165\n",
              "1    11.909246   11.918362  11.916213  ...      11.956942      12.068145  12.023828\n",
              "2    11.785589   11.785172  11.785755  ...      11.768158      11.859008  11.766501\n",
              "3    11.814794   11.809117  11.821062  ...      11.793635      11.756246  11.756207\n",
              "4    11.357140   11.353345  11.353980  ...      11.363881      11.329136  11.344832\n",
              "\n",
              "[5 rows x 8 columns]"
            ]
          },
          "metadata": {
            "tags": []
          },
          "execution_count": 35
        }
      ]
    },
    {
      "cell_type": "code",
      "metadata": {
        "id": "oKrOQNcrbPp0",
        "colab_type": "code",
        "outputId": "b87a57e3-2bd4-4382-c746-5fef8c298b14",
        "colab": {
          "base_uri": "https://localhost:8080/",
          "height": 195
        }
      },
      "source": [
        "stacked_test_train.head()"
      ],
      "execution_count": 36,
      "outputs": [
        {
          "output_type": "execute_result",
          "data": {
            "text/html": [
              "<div>\n",
              "<style scoped>\n",
              "    .dataframe tbody tr th:only-of-type {\n",
              "        vertical-align: middle;\n",
              "    }\n",
              "\n",
              "    .dataframe tbody tr th {\n",
              "        vertical-align: top;\n",
              "    }\n",
              "\n",
              "    .dataframe thead th {\n",
              "        text-align: right;\n",
              "    }\n",
              "</style>\n",
              "<table border=\"1\" class=\"dataframe\">\n",
              "  <thead>\n",
              "    <tr style=\"text-align: right;\">\n",
              "      <th></th>\n",
              "      <th>KernelRidge</th>\n",
              "      <th>ElasticNet</th>\n",
              "      <th>Lasso</th>\n",
              "      <th>Gradient Boosting</th>\n",
              "      <th>Bayesian Ridge</th>\n",
              "      <th>Lasso Lars IC</th>\n",
              "      <th>Random Forest</th>\n",
              "      <th>XGBoost</th>\n",
              "    </tr>\n",
              "  </thead>\n",
              "  <tbody>\n",
              "    <tr>\n",
              "      <th>0</th>\n",
              "      <td>11.636958</td>\n",
              "      <td>11.640491</td>\n",
              "      <td>11.640737</td>\n",
              "      <td>11.720710</td>\n",
              "      <td>11.640184</td>\n",
              "      <td>11.657661</td>\n",
              "      <td>11.720434</td>\n",
              "      <td>11.681759</td>\n",
              "    </tr>\n",
              "    <tr>\n",
              "      <th>1</th>\n",
              "      <td>11.990914</td>\n",
              "      <td>11.988131</td>\n",
              "      <td>11.989119</td>\n",
              "      <td>11.959877</td>\n",
              "      <td>11.990921</td>\n",
              "      <td>11.956845</td>\n",
              "      <td>11.950297</td>\n",
              "      <td>11.990759</td>\n",
              "    </tr>\n",
              "    <tr>\n",
              "      <th>2</th>\n",
              "      <td>12.097899</td>\n",
              "      <td>12.087417</td>\n",
              "      <td>12.086462</td>\n",
              "      <td>12.130536</td>\n",
              "      <td>12.098948</td>\n",
              "      <td>12.039650</td>\n",
              "      <td>12.088913</td>\n",
              "      <td>12.120154</td>\n",
              "    </tr>\n",
              "    <tr>\n",
              "      <th>3</th>\n",
              "      <td>12.189059</td>\n",
              "      <td>12.181919</td>\n",
              "      <td>12.177527</td>\n",
              "      <td>12.145993</td>\n",
              "      <td>12.189636</td>\n",
              "      <td>12.123748</td>\n",
              "      <td>12.110254</td>\n",
              "      <td>12.101163</td>\n",
              "    </tr>\n",
              "    <tr>\n",
              "      <th>4</th>\n",
              "      <td>12.088862</td>\n",
              "      <td>12.095866</td>\n",
              "      <td>12.091821</td>\n",
              "      <td>12.135041</td>\n",
              "      <td>12.087660</td>\n",
              "      <td>12.126271</td>\n",
              "      <td>12.147147</td>\n",
              "      <td>12.121401</td>\n",
              "    </tr>\n",
              "  </tbody>\n",
              "</table>\n",
              "</div>"
            ],
            "text/plain": [
              "   KernelRidge  ElasticNet      Lasso  ...  Lasso Lars IC  Random Forest    XGBoost\n",
              "0    11.636958   11.640491  11.640737  ...      11.657661      11.720434  11.681759\n",
              "1    11.990914   11.988131  11.989119  ...      11.956845      11.950297  11.990759\n",
              "2    12.097899   12.087417  12.086462  ...      12.039650      12.088913  12.120154\n",
              "3    12.189059   12.181919  12.177527  ...      12.123748      12.110254  12.101163\n",
              "4    12.088862   12.095866  12.091821  ...      12.126271      12.147147  12.121401\n",
              "\n",
              "[5 rows x 8 columns]"
            ]
          },
          "metadata": {
            "tags": []
          },
          "execution_count": 36
        }
      ]
    },
    {
      "cell_type": "code",
      "metadata": {
        "id": "h8W8-7ZQbP1c",
        "colab_type": "code",
        "outputId": "93a160f5-49bc-4240-bc29-aa0825855b55",
        "colab": {
          "base_uri": "https://localhost:8080/",
          "height": 34
        }
      },
      "source": [
        "drop = ['Lasso']\n",
        "stacked_validation_train.drop(drop, axis=1, inplace=True)\n",
        "stacked_test_train.drop(drop, axis=1, inplace=True)\n",
        "\n",
        "# Now fit the meta model and generate predictions\n",
        "meta_model = make_pipeline(RobustScaler(), Lasso(alpha=0.00001, copy_X = True, fit_intercept = True,\n",
        "                                              normalize = False, precompute = False, max_iter = 10000,\n",
        "                                              tol = 0.0001, selection = 'random', random_state = None))\n",
        "meta_model.fit(stacked_validation_train, Y_test)\n",
        "\n",
        "meta_model_pred = np.expm1(meta_model.predict(stacked_test_train))\n",
        "print(\"Meta-model trained and applied!...\")"
      ],
      "execution_count": 37,
      "outputs": [
        {
          "output_type": "stream",
          "text": [
            "Meta-model trained and applied!...\n"
          ],
          "name": "stdout"
        }
      ]
    },
    {
      "cell_type": "code",
      "metadata": {
        "id": "VK_a5O-7V5ox",
        "colab_type": "code",
        "outputId": "bce1ca39-acef-4531-ffef-edb5396449b2",
        "colab": {
          "base_uri": "https://localhost:8080/",
          "height": 380
        }
      },
      "source": [
        "models = [KernelRidge(), ElasticNet(), Lasso(), GradientBoostingRegressor(), BayesianRidge(), LassoLarsIC(), RandomForestRegressor(), xgb.XGBRegressor()]\n",
        "names = ['KernelRidge', 'ElasticNet', 'Lasso', 'Gradient Boosting', 'Bayesian Ridge', 'Lasso Lars IC', 'Random Forest', 'XGBoost']\n",
        "params_grid = [KR_param_grid, EN_param_grid, LASS_param_grid, GB_param_grid, BR_param_grid, LL_param_grid, RFR_param_grid, XGB_param_grid]\n",
        "final_predictions = pd.DataFrame()\n",
        "\n",
        "row_index=0\n",
        "\n",
        "for alg in models:\n",
        "    \n",
        "    gs_alg = GridSearchCV(alg, param_grid = params_grid[0], cv = shuff, scoring = 'neg_mean_squared_error', n_jobs=-1)\n",
        "    params_grid.pop(0)\n",
        "    \n",
        "    gs_alg.fit(stacked_validation_train, Y_test)\n",
        "    gs_best = gs_alg.best_estimator_\n",
        "    final_predictions.insert(loc = row_index, column = names[0], value = np.expm1(gs_best.predict(stacked_test_train)))\n",
        "    print(row_index+1, alg.__class__.__name__, 'final results predicted added to table...')\n",
        "    names.pop(0)\n",
        "    \n",
        "    row_index+=1\n",
        "\n",
        "print(\"-\"*50)\n",
        "print(\"Done\")\n",
        "    \n",
        "final_predictions.head()"
      ],
      "execution_count": 38,
      "outputs": [
        {
          "output_type": "stream",
          "text": [
            "1 KernelRidge final results predicted added to table...\n",
            "2 ElasticNet final results predicted added to table...\n",
            "3 Lasso final results predicted added to table...\n",
            "4 GradientBoostingRegressor final results predicted added to table...\n",
            "5 BayesianRidge final results predicted added to table...\n",
            "6 LassoLarsIC final results predicted added to table...\n",
            "7 RandomForestRegressor final results predicted added to table...\n",
            "[23:08:42] WARNING: /workspace/src/objective/regression_obj.cu:152: reg:linear is now deprecated in favor of reg:squarederror.\n",
            "8 XGBRegressor final results predicted added to table...\n",
            "--------------------------------------------------\n",
            "Done\n"
          ],
          "name": "stdout"
        },
        {
          "output_type": "execute_result",
          "data": {
            "text/html": [
              "<div>\n",
              "<style scoped>\n",
              "    .dataframe tbody tr th:only-of-type {\n",
              "        vertical-align: middle;\n",
              "    }\n",
              "\n",
              "    .dataframe tbody tr th {\n",
              "        vertical-align: top;\n",
              "    }\n",
              "\n",
              "    .dataframe thead th {\n",
              "        text-align: right;\n",
              "    }\n",
              "</style>\n",
              "<table border=\"1\" class=\"dataframe\">\n",
              "  <thead>\n",
              "    <tr style=\"text-align: right;\">\n",
              "      <th></th>\n",
              "      <th>KernelRidge</th>\n",
              "      <th>ElasticNet</th>\n",
              "      <th>Lasso</th>\n",
              "      <th>Gradient Boosting</th>\n",
              "      <th>Bayesian Ridge</th>\n",
              "      <th>Lasso Lars IC</th>\n",
              "      <th>Random Forest</th>\n",
              "      <th>XGBoost</th>\n",
              "    </tr>\n",
              "  </thead>\n",
              "  <tbody>\n",
              "    <tr>\n",
              "      <th>0</th>\n",
              "      <td>116575.696401</td>\n",
              "      <td>116829.520329</td>\n",
              "      <td>115349.088702</td>\n",
              "      <td>123170.581757</td>\n",
              "      <td>116856.502080</td>\n",
              "      <td>116757.884849</td>\n",
              "      <td>116195.992759</td>\n",
              "      <td>118909.648438</td>\n",
              "    </tr>\n",
              "    <tr>\n",
              "      <th>1</th>\n",
              "      <td>160035.249658</td>\n",
              "      <td>159819.032922</td>\n",
              "      <td>159980.869704</td>\n",
              "      <td>158303.464773</td>\n",
              "      <td>160994.542236</td>\n",
              "      <td>160021.427604</td>\n",
              "      <td>156541.601135</td>\n",
              "      <td>164992.812500</td>\n",
              "    </tr>\n",
              "    <tr>\n",
              "      <th>2</th>\n",
              "      <td>182244.850863</td>\n",
              "      <td>182087.162205</td>\n",
              "      <td>181330.711352</td>\n",
              "      <td>176263.452313</td>\n",
              "      <td>184060.941612</td>\n",
              "      <td>182557.884484</td>\n",
              "      <td>176715.055592</td>\n",
              "      <td>174534.984375</td>\n",
              "    </tr>\n",
              "    <tr>\n",
              "      <th>3</th>\n",
              "      <td>190050.308068</td>\n",
              "      <td>189536.184835</td>\n",
              "      <td>193181.635788</td>\n",
              "      <td>184512.167030</td>\n",
              "      <td>190822.870922</td>\n",
              "      <td>189319.232800</td>\n",
              "      <td>186471.959551</td>\n",
              "      <td>189181.218750</td>\n",
              "    </tr>\n",
              "    <tr>\n",
              "      <th>4</th>\n",
              "      <td>181735.754533</td>\n",
              "      <td>182045.601501</td>\n",
              "      <td>179973.435174</td>\n",
              "      <td>176293.371555</td>\n",
              "      <td>181060.638490</td>\n",
              "      <td>181938.304297</td>\n",
              "      <td>177296.862943</td>\n",
              "      <td>178455.328125</td>\n",
              "    </tr>\n",
              "  </tbody>\n",
              "</table>\n",
              "</div>"
            ],
            "text/plain": [
              "     KernelRidge     ElasticNet  ...  Random Forest        XGBoost\n",
              "0  116575.696401  116829.520329  ...  116195.992759  118909.648438\n",
              "1  160035.249658  159819.032922  ...  156541.601135  164992.812500\n",
              "2  182244.850863  182087.162205  ...  176715.055592  174534.984375\n",
              "3  190050.308068  189536.184835  ...  186471.959551  189181.218750\n",
              "4  181735.754533  182045.601501  ...  177296.862943  178455.328125\n",
              "\n",
              "[5 rows x 8 columns]"
            ]
          },
          "metadata": {
            "tags": []
          },
          "execution_count": 38
        }
      ]
    },
    {
      "cell_type": "code",
      "metadata": {
        "id": "fXd9zpA1XYv8",
        "colab_type": "code",
        "colab": {}
      },
      "source": [
        ""
      ],
      "execution_count": 0,
      "outputs": []
    },
    {
      "cell_type": "markdown",
      "metadata": {
        "id": "tiuVrEmRCdre",
        "colab_type": "text"
      },
      "source": [
        "## Сделаем несколько вариантов блэндинг различных моделей:"
      ]
    },
    {
      "cell_type": "code",
      "metadata": {
        "id": "sbsM6ldn7zYr",
        "colab_type": "code",
        "colab": {
          "base_uri": "https://localhost:8080/",
          "height": 34
        },
        "outputId": "1fcd6e79-a6df-473b-acbd-71e19e189492"
      },
      "source": [
        "ensemble = meta_model_pred*(1/10) + final_predictions['XGBoost']*(1.5/10) + final_predictions['Gradient Boosting']*(2/10) + final_predictions['Bayesian Ridge']*(2.5/10) + final_predictions['Lasso']*(1/10) + final_predictions['Lasso Lars IC']*(1/10) + final_predictions['KernelRidge']*(1/10)\n",
        "\n",
        "submission = pd.DataFrame()\n",
        "submission['Id'] =test2['Id']\n",
        "submission['SalePrice'] = ensemble\n",
        "submission.to_csv('final_submission.csv',index=False)\n",
        "print(\"Файл сохранён!\")"
      ],
      "execution_count": 39,
      "outputs": [
        {
          "output_type": "stream",
          "text": [
            "Файл сохранён!\n"
          ],
          "name": "stdout"
        }
      ]
    },
    {
      "cell_type": "code",
      "metadata": {
        "id": "IL3Qt5xT7zfC",
        "colab_type": "code",
        "colab": {
          "base_uri": "https://localhost:8080/",
          "height": 34
        },
        "outputId": "dfbd5d45-4e4b-4b57-fc5f-cc94cfed0d81"
      },
      "source": [
        "ensemble2 = (meta_model_pred + final_predictions['XGBoost'] + final_predictions['Gradient Boosting'] + final_predictions['Bayesian Ridge'] + final_predictions['Lasso'] + final_predictions['KernelRidge'] + final_predictions['Lasso Lars IC'] + final_predictions['Random Forest'])/8\n",
        "\n",
        "submission = pd.DataFrame()\n",
        "submission['Id'] =test2['Id']\n",
        "submission['SalePrice'] = ensemble2\n",
        "submission.to_csv('final_submission2.csv',index=False)\n",
        "print(\"Файл сохранён!\")"
      ],
      "execution_count": 40,
      "outputs": [
        {
          "output_type": "stream",
          "text": [
            "Файл сохранён!\n"
          ],
          "name": "stdout"
        }
      ]
    },
    {
      "cell_type": "code",
      "metadata": {
        "id": "1iO374JF-fCW",
        "colab_type": "code",
        "colab": {
          "base_uri": "https://localhost:8080/",
          "height": 34
        },
        "outputId": "295d830c-5a86-4653-bc4e-8a05575a6184"
      },
      "source": [
        "ensemble3 = (meta_model_pred*(1/10) + final_predictions['XGBoost']*(1.5/10) + final_predictions['Gradient Boosting']*(2/10)\n",
        "            + final_predictions['Bayesian Ridge']*(1/10) + final_predictions['Lasso']*(1/10) + final_predictions['KernelRidge']*(1/10)\n",
        "            + final_predictions['Lasso Lars IC']*(1/10) + final_predictions['Random Forest']*(1.5/10))\n",
        "\n",
        "submission = pd.DataFrame()\n",
        "submission['Id'] =test2['Id']\n",
        "submission['SalePrice'] = ensemble3\n",
        "submission.to_csv('final_submission3.csv',index=False)\n",
        "print(\"Файл сохранён!\")"
      ],
      "execution_count": 41,
      "outputs": [
        {
          "output_type": "stream",
          "text": [
            "Файл сохранён!\n"
          ],
          "name": "stdout"
        }
      ]
    },
    {
      "cell_type": "code",
      "metadata": {
        "id": "HFN9i0kaDYJC",
        "colab_type": "code",
        "colab": {}
      },
      "source": [
        ""
      ],
      "execution_count": 0,
      "outputs": []
    },
    {
      "cell_type": "markdown",
      "metadata": {
        "id": "c8BWqPspEZl9",
        "colab_type": "text"
      },
      "source": [
        "## Попробуем применить нейросеть:"
      ]
    },
    {
      "cell_type": "code",
      "metadata": {
        "id": "upv1OHAI-fJf",
        "colab_type": "code",
        "colab": {}
      },
      "source": [
        "import torch \n",
        "import matplotlib\n",
        "matplotlib.rcParams['figure.figsize'] = (13.0, 5.0)"
      ],
      "execution_count": 0,
      "outputs": []
    },
    {
      "cell_type": "code",
      "metadata": {
        "id": "al2IhZCTExEW",
        "colab_type": "code",
        "colab": {}
      },
      "source": [
        "x_data = torch.Tensor(xgb_train)"
      ],
      "execution_count": 0,
      "outputs": []
    },
    {
      "cell_type": "code",
      "metadata": {
        "id": "NsDlTNVoFROw",
        "colab_type": "code",
        "colab": {}
      },
      "source": [
        "y_data= torch.Tensor(price2)"
      ],
      "execution_count": 0,
      "outputs": []
    },
    {
      "cell_type": "code",
      "metadata": {
        "id": "yg24yx8GFV30",
        "colab_type": "code",
        "colab": {
          "base_uri": "https://localhost:8080/",
          "height": 84
        },
        "outputId": "bec83dfc-1dd3-48af-88d5-55d4f08218b4"
      },
      "source": [
        "X_train, X_val, y_train, y_val = train_test_split(x_data, y_data, test_size=0.2, shuffle=False)\n",
        "print('X_train: ', X_train.shape, '\\nX_val: ', X_val.shape, '\\nY_train: ', Y_train.shape, '\\ny_val: ', y_val.shape)"
      ],
      "execution_count": 45,
      "outputs": [
        {
          "output_type": "stream",
          "text": [
            "X_train:  torch.Size([1164, 48]) \n",
            "X_val:  torch.Size([292, 48]) \n",
            "Y_train:  (1019,) \n",
            "y_val:  torch.Size([292])\n"
          ],
          "name": "stdout"
        }
      ]
    },
    {
      "cell_type": "code",
      "metadata": {
        "id": "zsjDa_WzFlWR",
        "colab_type": "code",
        "colab": {}
      },
      "source": [
        "class SineNet(torch.nn.Module):\n",
        "    def __init__(self, n_hidden_neurons):\n",
        "        super().__init__()\n",
        "        self.fc1 = torch.nn.Linear(48, n_hidden_neurons)\n",
        "        #self.act1 = torch.nn.Sigmoid()\n",
        "        self.act1 = torch.nn.ReLU()\n",
        "        self.fc2 = torch.nn.Linear(n_hidden_neurons, n_hidden_neurons)\n",
        "        self.act2 = torch.nn.Tanh()\n",
        "        self.fc3 = torch.nn.Linear(n_hidden_neurons, 1)\n",
        "\n",
        "    def forward(self, x):\n",
        "        x = self.fc1(x)\n",
        "        x = self.act1(x)\n",
        "        x = self.fc2(x)\n",
        "        x = self.act2(x)\n",
        "        x = self.fc3(x)\n",
        "        return x\n",
        "\n",
        "sine_net = SineNet(50)"
      ],
      "execution_count": 0,
      "outputs": []
    },
    {
      "cell_type": "code",
      "metadata": {
        "id": "AfNoFkw4Fsek",
        "colab_type": "code",
        "colab": {
          "base_uri": "https://localhost:8080/",
          "height": 360
        },
        "outputId": "d891c19e-8e46-4c58-f015-7aeccbacf0c0"
      },
      "source": [
        "def predict(net, x, y):\n",
        "    y_pred = net.forward(x)\n",
        "\n",
        "    plt.plot(x.numpy(), y.numpy(), 'o')\n",
        "    plt.plot(x.numpy(), y_pred.data.numpy(), 'o', c='r');\n",
        "    plt.legend(loc='upper left')\n",
        "    plt.xlabel('$x$')\n",
        "    plt.ylabel('$y$')\n",
        "\n",
        "predict(sine_net, X_val, y_val)"
      ],
      "execution_count": 47,
      "outputs": [
        {
          "output_type": "stream",
          "text": [
            "No handles with labels found to put in legend.\n"
          ],
          "name": "stderr"
        },
        {
          "output_type": "display_data",
          "data": {
            "image/png": "[encoded data removed]",
            "text/plain": [
              "<Figure size 936x360 with 1 Axes>"
            ]
          },
          "metadata": {
            "tags": []
          }
        }
      ]
    },
    {
      "cell_type": "code",
      "metadata": {
        "id": "12nm0QL9Fvpe",
        "colab_type": "code",
        "colab": {}
      },
      "source": [
        "optimizer = torch.optim.Adam(sine_net.parameters(), lr=0.01)"
      ],
      "execution_count": 0,
      "outputs": []
    },
    {
      "cell_type": "code",
      "metadata": {
        "id": "wbey2QQmI0iY",
        "colab_type": "code",
        "colab": {}
      },
      "source": [
        "def loss(pred, target):\n",
        "    squares = (pred - target) ** 2\n",
        "    return squares.mean()"
      ],
      "execution_count": 0,
      "outputs": []
    },
    {
      "cell_type": "code",
      "metadata": {
        "id": "B5aJDlGGI3FS",
        "colab_type": "code",
        "colab": {}
      },
      "source": [
        "def metric(y_pred, target):\n",
        "    return ((y_pred - target)**2).mean()"
      ],
      "execution_count": 0,
      "outputs": []
    },
    {
      "cell_type": "code",
      "metadata": {
        "id": "CrMYHCsnI5x9",
        "colab_type": "code",
        "colab": {
          "base_uri": "https://localhost:8080/",
          "height": 373
        },
        "outputId": "1e97da8b-df33-4ea0-a35b-2107c5b2bae8"
      },
      "source": [
        "for epoch_index in range(2000):\n",
        "    optimizer.zero_grad()\n",
        "\n",
        "    y_pred = sine_net.forward(x_data)\n",
        "    loss_val = loss(y_pred, y_data)\n",
        "\n",
        "    loss_val.backward()\n",
        "\n",
        "    optimizer.step()\n",
        "\n",
        "predict(sine_net, x_data, y_data)\n",
        "print(metric(sine_net.forward(x_data), y_data).item())"
      ],
      "execution_count": 51,
      "outputs": [
        {
          "output_type": "stream",
          "text": [
            "No handles with labels found to put in legend.\n"
          ],
          "name": "stderr"
        },
        {
          "output_type": "stream",
          "text": [
            "0.15677961707115173\n"
          ],
          "name": "stdout"
        },
        {
          "output_type": "display_data",
          "data": {
            "image/png": "[encoded data removed]",
            "text/plain": [
              "<Figure size 936x360 with 1 Axes>"
            ]
          },
          "metadata": {
            "tags": []
          }
        }
      ]
    },
    {
      "cell_type": "code",
      "metadata": {
        "id": "hrW1kStCI_YF",
        "colab_type": "code",
        "colab": {}
      },
      "source": [
        ""
      ],
      "execution_count": 0,
      "outputs": []
    }
  ]
}